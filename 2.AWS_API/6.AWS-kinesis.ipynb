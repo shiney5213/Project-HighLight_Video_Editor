{
 "cells": [
  {
   "cell_type": "markdown",
   "metadata": {},
   "source": [
    "- https://github.com/awslabs/amazon-kinesis-client-python"
   ]
  },
  {
   "cell_type": "code",
   "execution_count": 4,
   "metadata": {},
   "outputs": [],
   "source": [
    "from amazon_kclpy import kcl\n",
    "import json, base64"
   ]
  },
  {
   "cell_type": "code",
   "execution_count": 6,
   "metadata": {},
   "outputs": [],
   "source": [
    "class RecordProcessor(kcl.RecordProcessorBase):\n",
    "\n",
    "    def initialize(self, initialiation_input):\n",
    "        pass\n",
    "\n",
    "    def process_records(self, process_records_input):\n",
    "        pass\n",
    "\n",
    "    def lease_lost(self, lease_lost_input):\n",
    "        pass\n",
    "\n",
    "    def shard_ended(self, shard_ended_input):\n",
    "        pass\n",
    "\n",
    "    def shutdown_requested(self, shutdown_requested_input):\n",
    "        pass"
   ]
  },
  {
   "cell_type": "code",
   "execution_count": 7,
   "metadata": {},
   "outputs": [],
   "source": [
    "kclprocess = kcl.KCLProcess(RecordProcessor())\n",
    "kclprocess.run()"
   ]
  },
  {
   "cell_type": "code",
   "execution_count": null,
   "metadata": {},
   "outputs": [],
   "source": []
  }
 ],
 "metadata": {
  "kernelspec": {
   "display_name": "Python 3",
   "language": "python",
   "name": "python3"
  },
  "language_info": {
   "codemirror_mode": {
    "name": "ipython",
    "version": 3
   },
   "file_extension": ".py",
   "mimetype": "text/x-python",
   "name": "python",
   "nbconvert_exporter": "python",
   "pygments_lexer": "ipython3",
   "version": "3.6.10"
  }
 },
 "nbformat": 4,
 "nbformat_minor": 4
}
