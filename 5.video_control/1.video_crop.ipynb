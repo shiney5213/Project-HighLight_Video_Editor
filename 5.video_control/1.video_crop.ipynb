{
 "cells": [
  {
   "cell_type": "markdown",
   "metadata": {},
   "source": [
    "- https://zulko.github.io/moviepy/getting_started/compositing.html"
   ]
  },
  {
   "cell_type": "code",
   "execution_count": 2,
   "metadata": {
    "ExecuteTime": {
     "end_time": "2020-06-19T18:09:55.880742Z",
     "start_time": "2020-06-19T18:09:38.740747Z"
    }
   },
   "outputs": [
    {
     "name": "stdout",
     "output_type": "stream",
     "text": [
      "Processing c:\\users\\shiney\\appdata\\local\\pip\\cache\\wheels\\be\\dc\\17\\8b4d5a63bcd05dc44db7da57e193372ccd333617293f9deebe\\moviepy-1.0.3-py3-none-any.whl\n",
      "Processing c:\\users\\shiney\\appdata\\local\\pip\\cache\\wheels\\e7\\11\\a0\\7e65f734d33043735a557b1244569cca327353db9068158076\\proglog-0.1.9-py3-none-any.whl\n",
      "Requirement already satisfied: numpy>=1.17.3; python_version != \"2.7\" in c:\\users\\shiney\\documents\\workspace\\djangopy36\\lib\\site-packages (from moviepy) (1.18.1)\n",
      "Requirement already satisfied: decorator<5.0,>=4.0.2 in c:\\users\\shiney\\documents\\workspace\\djangopy36\\lib\\site-packages (from moviepy) (4.4.2)\n",
      "Collecting requests<3.0,>=2.8.1\n",
      "  Downloading requests-2.24.0-py2.py3-none-any.whl (61 kB)\n",
      "Collecting imageio-ffmpeg>=0.2.0; python_version >= \"3.4\"\n",
      "  Using cached imageio_ffmpeg-0.4.2-py3-none-win_amd64.whl (22.6 MB)\n",
      "Collecting tqdm<5.0,>=4.11.2\n",
      "  Using cached tqdm-4.46.1-py2.py3-none-any.whl (63 kB)\n",
      "Collecting imageio<3.0,>=2.5; python_version >= \"3.4\"\n",
      "  Using cached imageio-2.8.0-py3-none-any.whl (3.3 MB)\n",
      "Collecting chardet<4,>=3.0.2\n",
      "  Using cached chardet-3.0.4-py2.py3-none-any.whl (133 kB)\n",
      "Collecting idna<3,>=2.5\n",
      "  Using cached idna-2.9-py2.py3-none-any.whl (58 kB)\n",
      "Collecting certifi>=2017.4.17\n",
      "  Using cached certifi-2020.4.5.2-py2.py3-none-any.whl (157 kB)\n",
      "Collecting urllib3!=1.25.0,!=1.25.1,<1.26,>=1.21.1\n",
      "  Using cached urllib3-1.25.9-py2.py3-none-any.whl (126 kB)\n",
      "Requirement already satisfied: pillow in c:\\users\\shiney\\documents\\workspace\\djangopy36\\lib\\site-packages (from imageio<3.0,>=2.5; python_version >= \"3.4\"->moviepy) (7.1.1)\n",
      "Installing collected packages: tqdm, proglog, chardet, idna, certifi, urllib3, requests, imageio-ffmpeg, imageio, moviepy\n",
      "Successfully installed certifi-2020.4.5.2 chardet-3.0.4 idna-2.9 imageio-2.8.0 imageio-ffmpeg-0.4.2 moviepy-1.0.3 proglog-0.1.9 requests-2.24.0 tqdm-4.46.1 urllib3-1.25.9\n"
     ]
    }
   ],
   "source": [
    "!pip install moviepy"
   ]
  },
  {
   "cell_type": "code",
   "execution_count": 3,
   "metadata": {
    "ExecuteTime": {
     "end_time": "2020-06-19T18:10:12.031773Z",
     "start_time": "2020-06-19T18:10:04.095745Z"
    }
   },
   "outputs": [],
   "source": [
    "from moviepy.video.io.ffmpeg_tools import ffmpeg_extract_subclip\n",
    "from moviepy.editor import VideoFileClip, concatenate_videoclips\n"
   ]
  },
  {
   "cell_type": "markdown",
   "metadata": {},
   "source": [
    "#### 영상 자르기(시간대별)\n"
   ]
  },
  {
   "cell_type": "code",
   "execution_count": 12,
   "metadata": {
    "ExecuteTime": {
     "end_time": "2020-06-19T18:21:45.752713Z",
     "start_time": "2020-06-19T18:21:45.744723Z"
    }
   },
   "outputs": [
    {
     "data": {
      "text/plain": [
       "4080"
      ]
     },
     "execution_count": 12,
     "metadata": {},
     "output_type": "execute_result"
    }
   ],
   "source": [
    "68 * 60"
   ]
  },
  {
   "cell_type": "code",
   "execution_count": 10,
   "metadata": {
    "ExecuteTime": {
     "end_time": "2020-06-19T18:16:21.237977Z",
     "start_time": "2020-06-19T18:16:21.231977Z"
    }
   },
   "outputs": [
    {
     "data": {
      "text/plain": [
       "3300"
      ]
     },
     "execution_count": 10,
     "metadata": {},
     "output_type": "execute_result"
    }
   ],
   "source": [
    "55*60"
   ]
  },
  {
   "cell_type": "code",
   "execution_count": 11,
   "metadata": {
    "ExecuteTime": {
     "end_time": "2020-06-19T18:16:28.218975Z",
     "start_time": "2020-06-19T18:16:27.510978Z"
    }
   },
   "outputs": [
    {
     "name": "stdout",
     "output_type": "stream",
     "text": [
      "Moviepy - Running:\n",
      ">>> \"+ \" \".join(cmd)\n",
      "Moviepy - Command successful\n"
     ]
    }
   ],
   "source": [
    "file_path = 'test3h.mp4'\n",
    "# file_path = '../6.Data_analysis/video/20200506_Faker_612874923.mp4'\n",
    "# start_time = 4080\n",
    "# end_time = 4200\n",
    "start_time = 3180\n",
    "end_time = 3300\n",
    "ffmpeg_extract_subclip(file_path, start_time, end_time, targetname=\"highlightnot.mp4\")"
   ]
  },
  {
   "cell_type": "markdown",
   "metadata": {},
   "source": [
    "#### 영상 합치기"
   ]
  },
  {
   "cell_type": "code",
   "execution_count": 7,
   "metadata": {},
   "outputs": [
    {
     "name": "stderr",
     "output_type": "stream",
     "text": [
      "chunk:  57%|███████████████████████████████████▋                           | 90/159 [00:00<00:00, 399.58it/s, now=None]"
     ]
    },
    {
     "name": "stdout",
     "output_type": "stream",
     "text": [
      "Moviepy - Building video test.mp4.\n",
      "MoviePy - Writing audio in testTEMP_MPY_wvf_snd.mp3\n"
     ]
    },
    {
     "name": "stderr",
     "output_type": "stream",
     "text": [
      "t:   6%|███▋                                                               | 12/216 [00:00<00:01, 110.82it/s, now=None]"
     ]
    },
    {
     "name": "stdout",
     "output_type": "stream",
     "text": [
      "MoviePy - Done.\n",
      "Moviepy - Writing video test.mp4\n",
      "\n"
     ]
    },
    {
     "name": "stderr",
     "output_type": "stream",
     "text": [
      "                                                                                                                       \r"
     ]
    },
    {
     "name": "stdout",
     "output_type": "stream",
     "text": [
      "Moviepy - Done !\n",
      "Moviepy - video ready test.mp4\n"
     ]
    }
   ],
   "source": [
    "file_path = 'test_news.mp4'\n",
    "clip1 = VideoFileClip(file_path).subclip(0.5,5.7)\n",
    "clip2 = VideoFileClip(file_path).subclip(10,12)\n",
    "final_clip = concatenate_videoclips([clip1, clip2])\n",
    "final_clip.write_videofile('test.mp4')"
   ]
  },
  {
   "cell_type": "code",
   "execution_count": 9,
   "metadata": {},
   "outputs": [
    {
     "name": "stdout",
     "output_type": "stream",
     "text": [
      "123.123\n"
     ]
    }
   ],
   "source": [
    "a = '123.123'\n",
    "print(float(a))"
   ]
  },
  {
   "cell_type": "code",
   "execution_count": null,
   "metadata": {},
   "outputs": [],
   "source": []
  },
  {
   "cell_type": "code",
   "execution_count": 1,
   "metadata": {},
   "outputs": [],
   "source": [
    "import random"
   ]
  },
  {
   "cell_type": "code",
   "execution_count": 4,
   "metadata": {},
   "outputs": [
    {
     "data": {
      "text/plain": [
       "[0.4014259572532215,\n",
       " 0.6430582063842578,\n",
       " 0.5300280133137318,\n",
       " 0.003453921142570482,\n",
       " 0.5359179211986046,\n",
       " 0.4480342087311876,\n",
       " 0.4836680489819086,\n",
       " 0.46678723042947334,\n",
       " 0.012180667370403797,\n",
       " 0.12275930833129867]"
      ]
     },
     "execution_count": 4,
     "metadata": {},
     "output_type": "execute_result"
    }
   ],
   "source": [
    "[random.random() for i in range(10)]"
   ]
  },
  {
   "cell_type": "code",
   "execution_count": null,
   "metadata": {},
   "outputs": [],
   "source": []
  }
 ],
 "metadata": {
  "kernelspec": {
   "display_name": "Python 3",
   "language": "python",
   "name": "python3"
  },
  "language_info": {
   "codemirror_mode": {
    "name": "ipython",
    "version": 3
   },
   "file_extension": ".py",
   "mimetype": "text/x-python",
   "name": "python",
   "nbconvert_exporter": "python",
   "pygments_lexer": "ipython3",
   "version": "3.6.8"
  },
  "toc": {
   "base_numbering": 1,
   "nav_menu": {},
   "number_sections": false,
   "sideBar": true,
   "skip_h1_title": false,
   "title_cell": "Table of Contents",
   "title_sidebar": "Contents",
   "toc_cell": false,
   "toc_position": {},
   "toc_section_display": true,
   "toc_window_display": false
  }
 },
 "nbformat": 4,
 "nbformat_minor": 4
}
