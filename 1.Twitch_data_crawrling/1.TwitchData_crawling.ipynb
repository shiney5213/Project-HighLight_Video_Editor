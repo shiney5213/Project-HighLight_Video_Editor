{
 "cells": [
  {
   "cell_type": "markdown",
   "metadata": {},
   "source": [
    "- https://github.com/shs1234/TIL/blob/master/project/Process.ipynb"
   ]
  },
  {
   "cell_type": "code",
   "execution_count": 1,
   "metadata": {},
   "outputs": [],
   "source": [
    "import requests\n",
    "import json\n",
    "import sys\n",
    "import cv2\n",
    "import matplotlib.pyplot as plt\n",
    "import pytesseract\n",
    "import numpy as np\n",
    "import pandas as pd\n",
    "import datetime\n",
    "from PIL import Image\n",
    "\n",
    "pytesseract.pytesseract.tesseract_cmd = r'C:\\Program Files\\Tesseract-OCR\\tesseract'\n"
   ]
  },
  {
   "cell_type": "code",
   "execution_count": 2,
   "metadata": {},
   "outputs": [],
   "source": [
    "def time_msec(time):\n",
    "    time_split = time.split(':')\n",
    "    if len(time_split)==2:\n",
    "        sec = int(time_split[0])*60 + int(time_split[1])\n",
    "        return sec * 1000\n",
    "    elif len(time_split) == 3:\n",
    "        sec = (int(time_split[0]) * 60 + int(time_split[1]) * 60 + int9time_split[2])\n",
    "        return sec * 1000\n",
    "    \n",
    "    \n",
    "def msec_time(msec):\n",
    "    sec = msec/1000\n",
    "    return str(int(sec//60) + ':' + str(int(sec%60)))"
   ]
  },
  {
   "cell_type": "markdown",
   "metadata": {},
   "source": [
    "# 1. 트위치 채팅 내역 수집"
   ]
  },
  {
   "cell_type": "code",
   "execution_count": 3,
   "metadata": {},
   "outputs": [],
   "source": [
    "def doubleDigit(num):\n",
    "    if num < 10:\n",
    "        return '0' + str(num)\n",
    "    else:\n",
    "        return str(num)\n",
    "    \n",
    "def twichchat(videoId, clientId):\n",
    "    videoId = videoId\n",
    "    cllientid = clientId\n",
    "    \n",
    "    chat = []\n",
    "    time = []\n",
    "    user= []\n",
    "    \n",
    "    nextCursor = ''\n",
    "    params = {}\n",
    "    params['client_id'] = clientId\n",
    "    \n",
    "    i = 0\n",
    "    while True:\n",
    "        if i == 0:\n",
    "            URL = 'https://api.twitch.tv/v5/videos/'+videoId+'/comments?content_offset_seconds=0' \n",
    "            i += 1\n",
    "        else:\n",
    "            URL = 'https://api.twitch.tv/v5/videos/'+videoId+'/comments?cursor=' \n",
    "            URL +=  nextCursor  \n",
    "            \n",
    "    response = requests.get(URL, params=params)\n",
    "\n",
    "    j = json.loads(response.text)\n",
    "    print(j)"
   ]
  },
  {
   "cell_type": "code",
   "execution_count": null,
   "metadata": {},
   "outputs": [],
   "source": [
    "videoId = '571178493'\n",
    "clientId = 'vhggq5l1jefc8dtfza2phfc6ih69gs'\n",
    "twichchat(videoId, clientId)"
   ]
  },
  {
   "cell_type": "code",
   "execution_count": null,
   "metadata": {},
   "outputs": [],
   "source": []
  },
  {
   "cell_type": "code",
   "execution_count": null,
   "metadata": {},
   "outputs": [],
   "source": []
  }
 ],
 "metadata": {
  "kernelspec": {
   "display_name": "Python 3",
   "language": "python",
   "name": "python3"
  },
  "language_info": {
   "codemirror_mode": {
    "name": "ipython",
    "version": 3
   },
   "file_extension": ".py",
   "mimetype": "text/x-python",
   "name": "python",
   "nbconvert_exporter": "python",
   "pygments_lexer": "ipython3",
   "version": "3.6.10"
  }
 },
 "nbformat": 4,
 "nbformat_minor": 4
}
