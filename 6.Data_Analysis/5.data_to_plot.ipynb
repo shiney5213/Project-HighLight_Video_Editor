{
 "cells": [
  {
   "cell_type": "code",
   "execution_count": 2,
   "metadata": {},
   "outputs": [],
   "source": [
    "import pandas as pd\n",
    "import matplotlib.pyplot as plt\n",
    "import cv2"
   ]
  },
  {
   "cell_type": "markdown",
   "metadata": {},
   "source": [
    "### 게임인지 아닌지 plot"
   ]
  },
  {
   "cell_type": "code",
   "execution_count": 3,
   "metadata": {},
   "outputs": [],
   "source": [
    "datapath = 'isgame30.csv'"
   ]
  },
  {
   "cell_type": "code",
   "execution_count": 8,
   "metadata": {},
   "outputs": [],
   "source": [
    "data = pd.read_csv(datapath) "
   ]
  },
  {
   "cell_type": "code",
   "execution_count": 9,
   "metadata": {},
   "outputs": [
    {
     "data": {
      "text/html": [
       "<div>\n",
       "<style scoped>\n",
       "    .dataframe tbody tr th:only-of-type {\n",
       "        vertical-align: middle;\n",
       "    }\n",
       "\n",
       "    .dataframe tbody tr th {\n",
       "        vertical-align: top;\n",
       "    }\n",
       "\n",
       "    .dataframe thead th {\n",
       "        text-align: right;\n",
       "    }\n",
       "</style>\n",
       "<table border=\"1\" class=\"dataframe\">\n",
       "  <thead>\n",
       "    <tr style=\"text-align: right;\">\n",
       "      <th></th>\n",
       "      <th>0</th>\n",
       "    </tr>\n",
       "  </thead>\n",
       "  <tbody>\n",
       "    <tr>\n",
       "      <th>0</th>\n",
       "      <td>0.0</td>\n",
       "    </tr>\n",
       "    <tr>\n",
       "      <th>1</th>\n",
       "      <td>0.0</td>\n",
       "    </tr>\n",
       "    <tr>\n",
       "      <th>2</th>\n",
       "      <td>0.0</td>\n",
       "    </tr>\n",
       "    <tr>\n",
       "      <th>3</th>\n",
       "      <td>0.0</td>\n",
       "    </tr>\n",
       "    <tr>\n",
       "      <th>4</th>\n",
       "      <td>0.0</td>\n",
       "    </tr>\n",
       "  </tbody>\n",
       "</table>\n",
       "</div>"
      ],
      "text/plain": [
       "     0\n",
       "0  0.0\n",
       "1  0.0\n",
       "2  0.0\n",
       "3  0.0\n",
       "4  0.0"
      ]
     },
     "execution_count": 9,
     "metadata": {},
     "output_type": "execute_result"
    }
   ],
   "source": [
    "data.head()"
   ]
  },
  {
   "cell_type": "code",
   "execution_count": 24,
   "metadata": {},
   "outputs": [
    {
     "name": "stdout",
     "output_type": "stream",
     "text": [
      "12.5 2.0\n"
     ]
    }
   ],
   "source": [
    "# figsize의 1= 해상도에 맞춰짐.(defult = 72)\n",
    "pltx = 900/72\n",
    "plty = 144/72\n",
    "print(pltx, plty)\n"
   ]
  },
  {
   "cell_type": "code",
   "execution_count": 54,
   "metadata": {},
   "outputs": [],
   "source": [
    "plt.rcParams['figure.figsize'] = (pltx,plty)\n",
    "plt.rcParams['lines.linewidth'] = 2\n",
    "plt.rcParams['lines.color']= 'r'\n",
    "plt.rcParams['axes.grid'] = True"
   ]
  },
  {
   "cell_type": "code",
   "execution_count": 58,
   "metadata": {
    "scrolled": true
   },
   "outputs": [
    {
     "data": {
      "image/png": "[encoded data removed]",
      "text/plain": [
       "<Figure size 900x144 with 1 Axes>"
      ]
     },
     "metadata": {
      "needs_background": "light"
     },
     "output_type": "display_data"
    }
   ],
   "source": [
    "plt.plot(data)\n",
    "plt.yticks([0,1])\n",
    "plt.draw()\n",
    "fig = plt.gcf()\n",
    "fig.savefig('isgame.png', dpi = fig.dpi,  bbox_inches='tight')\n",
    "# fig.savefig('isgame.png', dpi = fig.dpi)"
   ]
  },
  {
   "cell_type": "markdown",
   "metadata": {},
   "source": [
    "### highlight/k/d/a 분석"
   ]
  },
  {
   "cell_type": "code",
   "execution_count": 59,
   "metadata": {},
   "outputs": [],
   "source": [
    "file = 'kda.csv'"
   ]
  },
  {
   "cell_type": "code",
   "execution_count": 60,
   "metadata": {},
   "outputs": [],
   "source": [
    "data = pd.read_csv(file)"
   ]
  },
  {
   "cell_type": "code",
   "execution_count": 61,
   "metadata": {},
   "outputs": [
    {
     "data": {
      "text/html": [
       "<div>\n",
       "<style scoped>\n",
       "    .dataframe tbody tr th:only-of-type {\n",
       "        vertical-align: middle;\n",
       "    }\n",
       "\n",
       "    .dataframe tbody tr th {\n",
       "        vertical-align: top;\n",
       "    }\n",
       "\n",
       "    .dataframe thead th {\n",
       "        text-align: right;\n",
       "    }\n",
       "</style>\n",
       "<table border=\"1\" class=\"dataframe\">\n",
       "  <thead>\n",
       "    <tr style=\"text-align: right;\">\n",
       "      <th></th>\n",
       "      <th>time</th>\n",
       "      <th>k</th>\n",
       "      <th>d</th>\n",
       "      <th>a</th>\n",
       "      <th>gold</th>\n",
       "      <th>ha</th>\n",
       "      <th>sa</th>\n",
       "      <th>an</th>\n",
       "      <th>ca</th>\n",
       "      <th>dis</th>\n",
       "      <th>...</th>\n",
       "      <th>da</th>\n",
       "      <th>1</th>\n",
       "      <th>2</th>\n",
       "      <th>3</th>\n",
       "      <th>4</th>\n",
       "      <th>5</th>\n",
       "      <th>6</th>\n",
       "      <th>7</th>\n",
       "      <th>8</th>\n",
       "      <th>demo</th>\n",
       "    </tr>\n",
       "  </thead>\n",
       "  <tbody>\n",
       "    <tr>\n",
       "      <th>0</th>\n",
       "      <td>00:00:01</td>\n",
       "      <td>1</td>\n",
       "      <td>2</td>\n",
       "      <td>2</td>\n",
       "      <td>1268</td>\n",
       "      <td>0.001303</td>\n",
       "      <td>0.017663</td>\n",
       "      <td>0.093119</td>\n",
       "      <td>99.814034</td>\n",
       "      <td>0.018597</td>\n",
       "      <td>...</td>\n",
       "      <td>0.0</td>\n",
       "      <td>0.000767</td>\n",
       "      <td>0.060521</td>\n",
       "      <td>0.092999</td>\n",
       "      <td>0.148010</td>\n",
       "      <td>0.011240</td>\n",
       "      <td>0.000367</td>\n",
       "      <td>0.000889</td>\n",
       "      <td>0.017008</td>\n",
       "      <td>1367.964294</td>\n",
       "    </tr>\n",
       "    <tr>\n",
       "      <th>1</th>\n",
       "      <td>00:00:02</td>\n",
       "      <td>1</td>\n",
       "      <td>2</td>\n",
       "      <td>2</td>\n",
       "      <td>1269</td>\n",
       "      <td>0.046960</td>\n",
       "      <td>0.580983</td>\n",
       "      <td>5.357029</td>\n",
       "      <td>88.434494</td>\n",
       "      <td>3.549767</td>\n",
       "      <td>...</td>\n",
       "      <td>0.0</td>\n",
       "      <td>0.045658</td>\n",
       "      <td>0.563320</td>\n",
       "      <td>5.263910</td>\n",
       "      <td>11.379539</td>\n",
       "      <td>3.531170</td>\n",
       "      <td>0.084439</td>\n",
       "      <td>0.786170</td>\n",
       "      <td>1.104870</td>\n",
       "      <td>1367.859422</td>\n",
       "    </tr>\n",
       "    <tr>\n",
       "      <th>2</th>\n",
       "      <td>00:00:03</td>\n",
       "      <td>1</td>\n",
       "      <td>2</td>\n",
       "      <td>2</td>\n",
       "      <td>1272</td>\n",
       "      <td>0.035974</td>\n",
       "      <td>0.772095</td>\n",
       "      <td>4.899387</td>\n",
       "      <td>91.803993</td>\n",
       "      <td>0.532837</td>\n",
       "      <td>...</td>\n",
       "      <td>0.0</td>\n",
       "      <td>0.010987</td>\n",
       "      <td>0.191112</td>\n",
       "      <td>0.457642</td>\n",
       "      <td>3.369499</td>\n",
       "      <td>3.016930</td>\n",
       "      <td>0.013782</td>\n",
       "      <td>0.368505</td>\n",
       "      <td>0.429774</td>\n",
       "      <td>1371.289199</td>\n",
       "    </tr>\n",
       "    <tr>\n",
       "      <th>3</th>\n",
       "      <td>00:00:04</td>\n",
       "      <td>1</td>\n",
       "      <td>2</td>\n",
       "      <td>2</td>\n",
       "      <td>1274</td>\n",
       "      <td>0.029601</td>\n",
       "      <td>0.243591</td>\n",
       "      <td>1.914247</td>\n",
       "      <td>95.263412</td>\n",
       "      <td>0.398880</td>\n",
       "      <td>...</td>\n",
       "      <td>0.0</td>\n",
       "      <td>0.006373</td>\n",
       "      <td>0.528504</td>\n",
       "      <td>2.985140</td>\n",
       "      <td>3.459419</td>\n",
       "      <td>0.133957</td>\n",
       "      <td>0.041094</td>\n",
       "      <td>0.085681</td>\n",
       "      <td>0.149964</td>\n",
       "      <td>1373.139231</td>\n",
       "    </tr>\n",
       "    <tr>\n",
       "      <th>4</th>\n",
       "      <td>00:00:05</td>\n",
       "      <td>1</td>\n",
       "      <td>2</td>\n",
       "      <td>2</td>\n",
       "      <td>1276</td>\n",
       "      <td>0.006439</td>\n",
       "      <td>0.069825</td>\n",
       "      <td>0.362756</td>\n",
       "      <td>99.126610</td>\n",
       "      <td>0.056621</td>\n",
       "      <td>...</td>\n",
       "      <td>0.0</td>\n",
       "      <td>0.023162</td>\n",
       "      <td>0.173766</td>\n",
       "      <td>1.551491</td>\n",
       "      <td>3.863197</td>\n",
       "      <td>0.342259</td>\n",
       "      <td>0.026612</td>\n",
       "      <td>0.996776</td>\n",
       "      <td>0.749142</td>\n",
       "      <td>1375.888363</td>\n",
       "    </tr>\n",
       "  </tbody>\n",
       "</table>\n",
       "<p>5 rows × 26 columns</p>\n",
       "</div>"
      ],
      "text/plain": [
       "       time  k  d  a  gold        ha        sa        an         ca       dis  \\\n",
       "0  00:00:01  1  2  2  1268  0.001303  0.017663  0.093119  99.814034  0.018597   \n",
       "1  00:00:02  1  2  2  1269  0.046960  0.580983  5.357029  88.434494  3.549767   \n",
       "2  00:00:03  1  2  2  1272  0.035974  0.772095  4.899387  91.803993  0.532837   \n",
       "3  00:00:04  1  2  2  1274  0.029601  0.243591  1.914247  95.263412  0.398880   \n",
       "4  00:00:05  1  2  2  1276  0.006439  0.069825  0.362756  99.126610  0.056621   \n",
       "\n",
       "   ...   da         1         2         3          4         5         6  \\\n",
       "0  ...  0.0  0.000767  0.060521  0.092999   0.148010  0.011240  0.000367   \n",
       "1  ...  0.0  0.045658  0.563320  5.263910  11.379539  3.531170  0.084439   \n",
       "2  ...  0.0  0.010987  0.191112  0.457642   3.369499  3.016930  0.013782   \n",
       "3  ...  0.0  0.006373  0.528504  2.985140   3.459419  0.133957  0.041094   \n",
       "4  ...  0.0  0.023162  0.173766  1.551491   3.863197  0.342259  0.026612   \n",
       "\n",
       "          7         8         demo  \n",
       "0  0.000889  0.017008  1367.964294  \n",
       "1  0.786170  1.104870  1367.859422  \n",
       "2  0.368505  0.429774  1371.289199  \n",
       "3  0.085681  0.149964  1373.139231  \n",
       "4  0.996776  0.749142  1375.888363  \n",
       "\n",
       "[5 rows x 26 columns]"
      ]
     },
     "execution_count": 61,
     "metadata": {},
     "output_type": "execute_result"
    }
   ],
   "source": [
    "data.head()\n"
   ]
  },
  {
   "cell_type": "code",
   "execution_count": 66,
   "metadata": {},
   "outputs": [
    {
     "data": {
      "text/html": [
       "<div>\n",
       "<style scoped>\n",
       "    .dataframe tbody tr th:only-of-type {\n",
       "        vertical-align: middle;\n",
       "    }\n",
       "\n",
       "    .dataframe tbody tr th {\n",
       "        vertical-align: top;\n",
       "    }\n",
       "\n",
       "    .dataframe thead th {\n",
       "        text-align: right;\n",
       "    }\n",
       "</style>\n",
       "<table border=\"1\" class=\"dataframe\">\n",
       "  <thead>\n",
       "    <tr style=\"text-align: right;\">\n",
       "      <th></th>\n",
       "      <th>dk</th>\n",
       "    </tr>\n",
       "  </thead>\n",
       "  <tbody>\n",
       "    <tr>\n",
       "      <th>0</th>\n",
       "      <td>0.0</td>\n",
       "    </tr>\n",
       "    <tr>\n",
       "      <th>1</th>\n",
       "      <td>0.0</td>\n",
       "    </tr>\n",
       "    <tr>\n",
       "      <th>2</th>\n",
       "      <td>0.0</td>\n",
       "    </tr>\n",
       "    <tr>\n",
       "      <th>3</th>\n",
       "      <td>0.0</td>\n",
       "    </tr>\n",
       "    <tr>\n",
       "      <th>4</th>\n",
       "      <td>0.0</td>\n",
       "    </tr>\n",
       "  </tbody>\n",
       "</table>\n",
       "</div>"
      ],
      "text/plain": [
       "    dk\n",
       "0  0.0\n",
       "1  0.0\n",
       "2  0.0\n",
       "3  0.0\n",
       "4  0.0"
      ]
     },
     "execution_count": 66,
     "metadata": {},
     "output_type": "execute_result"
    }
   ],
   "source": [
    "dfk = data[['dk']]\n",
    "dfk.head()"
   ]
  },
  {
   "cell_type": "code",
   "execution_count": 67,
   "metadata": {},
   "outputs": [
    {
     "name": "stdout",
     "output_type": "stream",
     "text": [
      "12.5 2.0\n"
     ]
    },
    {
     "data": {
      "image/png": "[encoded data removed]",
      "text/plain": [
       "<Figure size 900x144 with 1 Axes>"
      ]
     },
     "metadata": {
      "needs_background": "light"
     },
     "output_type": "display_data"
    }
   ],
   "source": [
    "# figsize의 1= 해상도에 맞춰짐.(defult = 72)\n",
    "pltx = 900/72\n",
    "plty = 144/72\n",
    "print(pltx, plty)\n",
    "\n",
    "\n",
    "plt.rcParams['figure.figsize'] = (pltx,plty)\n",
    "plt.rcParams['lines.linewidth'] = 2\n",
    "plt.rcParams['lines.color']= 'r'\n",
    "plt.rcParams['axes.grid'] = True\n",
    "\n",
    "plt.plot(dfk)\n",
    "plt.yticks([0,1])\n",
    "plt.draw()\n",
    "fig = plt.gcf()\n",
    "\n",
    "img_name = 'dfk.png'\n",
    "fig.savefig(img_name, dpi = fig.dpi,  bbox_inches='tight')\n",
    "# fig.savefig('isgame.png', dpi = fig.dpi)"
   ]
  },
  {
   "cell_type": "code",
   "execution_count": 70,
   "metadata": {},
   "outputs": [
    {
     "name": "stdout",
     "output_type": "stream",
     "text": [
      "25 25 25\n"
     ]
    }
   ],
   "source": [
    "dfk = data['dk']\n",
    "dfa =data['da']\n",
    "dfd =data['dd']\n",
    "\n",
    "print(len(dfk), len(dfa), len(dfd))"
   ]
  },
  {
   "cell_type": "code",
   "execution_count": 73,
   "metadata": {},
   "outputs": [],
   "source": [
    "plt.rcParams['figure.figsize'] = (pltx,plty)\n",
    "plt.rcParams['lines.linewidth'] = 2\n",
    "plt.rcParams['lines.color']= 'r'\n",
    "plt.rcParams['axes.grid'] = True\n",
    "\n",
    "pltx = 900/72\n",
    "plty = 144/72\n",
    "    "
   ]
  },
  {
   "cell_type": "code",
   "execution_count": 76,
   "metadata": {},
   "outputs": [
    {
     "data": {
      "image/png": "[encoded data removed]",
      "text/plain": [
       "<Figure size 900x144 with 1 Axes>"
      ]
     },
     "metadata": {
      "needs_background": "light"
     },
     "output_type": "display_data"
    }
   ],
   "source": [
    "for i in ['dk', 'da','dd']:\n",
    "    plt.rcParams['figure.figsize'] = (pltx,plty)\n",
    "    plt.rcParams['lines.linewidth'] = 2\n",
    "    plt.rcParams['lines.color']= 'r'\n",
    "    plt.rcParams['axes.grid'] = True\n",
    "\n",
    "    pltx = 900/72\n",
    "    plty = 144/72\n",
    "    dataframe = data[i]\n",
    "    plt.plot(dataframe)\n",
    "    plt.yticks([0,1])\n",
    "    plt.draw()\n",
    "    fig = plt.gcf()\n",
    "\n",
    "    img_name = f'{i}.png'\n",
    "    fig.savefig(img_name, dpi = fig.dpi,  bbox_inches='tight')"
   ]
  },
  {
   "cell_type": "code",
   "execution_count": null,
   "metadata": {},
   "outputs": [],
   "source": []
  }
 ],
 "metadata": {
  "kernelspec": {
   "display_name": "Python 3",
   "language": "python",
   "name": "python3"
  },
  "language_info": {
   "codemirror_mode": {
    "name": "ipython",
    "version": 3
   },
   "file_extension": ".py",
   "mimetype": "text/x-python",
   "name": "python",
   "nbconvert_exporter": "python",
   "pygments_lexer": "ipython3",
   "version": "3.6.10"
  }
 },
 "nbformat": 4,
 "nbformat_minor": 4
}
